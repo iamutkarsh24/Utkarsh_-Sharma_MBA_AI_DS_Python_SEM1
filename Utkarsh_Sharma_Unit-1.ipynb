{
 "cells": [
  {
   "cell_type": "markdown",
   "metadata": {},
   "source": [
    "## Unit 1"
   ]
  },
  {
   "cell_type": "code",
   "execution_count": null,
   "metadata": {},
   "outputs": [
    {
     "name": "stdout",
     "output_type": "stream",
     "text": [
      "Hello World\n"
     ]
    }
   ],
   "source": [
    "# Write a Python Program to Print \"Hello World\"\n",
    "print(\"Hello World\")"
   ]
  },
  {
   "cell_type": "code",
   "execution_count": 2,
   "metadata": {},
   "outputs": [
    {
     "name": "stdout",
     "output_type": "stream",
     "text": [
      "Addition: 22.0\n",
      "Subtraction: -2.0\n",
      "Multiplication: 120.0\n",
      "Division: 0.8333333333333334\n",
      "Modulus: 10.0\n"
     ]
    }
   ],
   "source": [
    "# Write a Python Program to Input two numbers and perform all operations \n",
    "\n",
    "num1 = float(input(\"Enter the first number: \"))\n",
    "num2 = float(input(\"Enter the second number: \"))\n",
    "\n",
    "# Perform operations\n",
    "addition = num1 + num2\n",
    "subtraction = num1 - num2\n",
    "multiplication = num1 * num2\n",
    "division = num1 / num2 if num2 != 0 else \"Undefined (cannot divide by zero)\"\n",
    "modulus = num1 % num2 if num2 != 0 else \"Undefined (cannot divide by zero)\"\n",
    "floor_division = num1 // num2 if num2 != 0 else \"Undefined (cannot divide by zero)\"\n",
    "\n",
    "# Display results\n",
    "print(f\"Addition: {addition}\")\n",
    "print(f\"Subtraction: {subtraction}\")\n",
    "print(f\"Multiplication: {multiplication}\")\n",
    "print(f\"Division: {division}\")\n",
    "print(f\"Modulus: {modulus}\")"
   ]
  },
  {
   "cell_type": "code",
   "execution_count": 3,
   "metadata": {},
   "outputs": [
    {
     "name": "stdout",
     "output_type": "stream",
     "text": [
      "40 is even.\n"
     ]
    }
   ],
   "source": [
    "# Write a Python program to check weather a number is even or odd \n",
    "\n",
    "number = int(input(\"Enter a number: \"))\n",
    "\n",
    "# Check if the number is even or odd\n",
    "if number % 2 == 0:\n",
    "    print(f\"{number} is even.\")\n",
    "else:\n",
    "    print(f\"{number} is odd.\")\n"
   ]
  },
  {
   "cell_type": "code",
   "execution_count": 4,
   "metadata": {},
   "outputs": [
    {
     "name": "stdout",
     "output_type": "stream",
     "text": [
      "56 is not divisible by 3.\n"
     ]
    }
   ],
   "source": [
    "# Write a Python Program to check weather the number is divisible is Divisible by 3 or not, also \n",
    "# if the number is divisible by 3 check weather it is also Divisible by 5 also. \n",
    "\n",
    "number = int(input(\"Enter a number: \"))\n",
    "\n",
    "# Check divisibility by 3 and 5\n",
    "if number % 3 == 0:\n",
    "    print(f\"{number} is divisible by 3.\")\n",
    "    if number % 5 == 0:\n",
    "        print(f\"{number} is also divisible by 5.\")\n",
    "    else:\n",
    "        print(f\"{number} is not divisible by 5.\")\n",
    "else:\n",
    "    print(f\"{number} is not divisible by 3.\")"
   ]
  },
  {
   "cell_type": "code",
   "execution_count": null,
   "metadata": {},
   "outputs": [],
   "source": [
    "# Create a Basic ATM program that allows the users to check their Deposit money and Withdraw Money and ensure \n",
    "# they don't withdraw more than they have initial balance\n",
    "balance = 0.0\n",
    "\n",
    "def check_balance():\n",
    "    print(f\"Your current balance is: ${balance:.2f}\")\n",
    "\n",
    "def deposit():\n",
    "    global balance\n",
    "    amount = float(input(\"Enter amount to deposit: $\"))\n",
    "    if amount > 0:\n",
    "        balance += amount\n",
    "        print(f\"${amount:.2f} deposited successfully.\")\n",
    "    else:\n",
    "        print(\"Invalid deposit amount. Please enter a positive value.\")\n",
    "\n",
    "def withdraw():\n",
    "    global balance\n",
    "    amount = float(input(\"Enter amount to withdraw: $\"))\n",
    "    if amount > balance:\n",
    "        print(\"Insufficient funds. You cannot withdraw more than your current balance.\")\n",
    "    elif amount <= 0:\n",
    "        print(\"Invalid withdrawal amount. Please enter a positive value.\")\n",
    "    else:\n",
    "        balance -= amount\n",
    "        print(f\"${amount:.2f} withdrawn successfully.\")\n",
    "\n",
    "# ATM menu\n",
    "while True:\n",
    "    print(\"\\n--- ATM Menu ---\")\n",
    "    print(\"1. Check Balance\")\n",
    "    print(\"2. Deposit Money\")\n",
    "    print(\"3. Withdraw Money\")\n",
    "    print(\"4. Exit\")\n",
    "\n",
    "    choice = input(\"Choose an option: \")\n",
    "\n",
    "    if choice == \"1\":\n",
    "        check_balance()\n",
    "    elif choice == \"2\":\n",
    "        deposit()\n",
    "    elif choice == \"3\":\n",
    "        withdraw()\n",
    "    elif choice == \"4\":\n",
    "        print(\"Thank you for using the ATM. Goodbye!\")\n",
    "        break\n",
    "    else:\n",
    "        print(\"Invalid choice. Please choose a valid option.\")"
   ]
  }
 ],
 "metadata": {
  "kernelspec": {
   "display_name": "Python 3",
   "language": "python",
   "name": "python3"
  },
  "language_info": {
   "codemirror_mode": {
    "name": "ipython",
    "version": 3
   },
   "file_extension": ".py",
   "mimetype": "text/x-python",
   "name": "python",
   "nbconvert_exporter": "python",
   "pygments_lexer": "ipython3",
   "version": "3.12.4"
  }
 },
 "nbformat": 4,
 "nbformat_minor": 2
}
