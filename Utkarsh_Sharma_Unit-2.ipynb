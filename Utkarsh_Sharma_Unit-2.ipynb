{
 "cells": [
  {
   "cell_type": "markdown",
   "metadata": {},
   "source": [
    "## Unit 2"
   ]
  },
  {
   "cell_type": "code",
   "execution_count": 8,
   "metadata": {},
   "outputs": [
    {
     "name": "stdout",
     "output_type": "stream",
     "text": [
      "Even numbers from 1 to 56 are:\n",
      "2 4 6 8 10 12 14 16 18 20 22 24 26 28 30 32 34 36 38 40 42 44 46 48 50 52 54 56 "
     ]
    }
   ],
   "source": [
    "# Write a Python Program to print all Even Numbers.\n",
    "\n",
    "n = int(input(\"Enter a number: \"))\n",
    "\n",
    "print(\"Even numbers from 1 to\", n, \"are:\")\n",
    "for i in range(1, n + 1):\n",
    "    if i % 2 == 0:\n",
    "        print(i, end=\" \")"
   ]
  },
  {
   "cell_type": "code",
   "execution_count": 7,
   "metadata": {},
   "outputs": [
    {
     "name": "stdout",
     "output_type": "stream",
     "text": [
      "10 X 1 = 10\n",
      "10 X 2 = 20\n",
      "10 X 3 = 30\n",
      "10 X 4 = 40\n",
      "10 X 5 = 50\n",
      "10 X 6 = 60\n",
      "10 X 7 = 70\n",
      "10 X 8 = 80\n",
      "10 X 9 = 90\n",
      "10 X 10 = 100\n",
      "Successfully\n"
     ]
    }
   ],
   "source": [
    "# Write a Python Program to print a Table givin by user.\n",
    "tab = int(input(\"Enter the number for the table:\"))\n",
    "for num in range(1,11):\n",
    "    print( tab,\"X\",num,\"=\",num*tab)\n",
    "else:\n",
    "    print(\"Successfully\")\n"
   ]
  },
  {
   "cell_type": "code",
   "execution_count": 6,
   "metadata": {},
   "outputs": [
    {
     "name": "stdout",
     "output_type": "stream",
     "text": [
      "1 2 3 5 8 13 21 34 55 89 144 233 377 610 987 1597 2584 4181 6765 10946 17711 28657 46368 75025 121393 \n"
     ]
    }
   ],
   "source": [
    "# Write a Python Program to print Fibonacci Series.\n",
    "n=25\n",
    "num1=0\n",
    "num2=1\n",
    "next_number=num2\n",
    "count=1\n",
    "\n",
    "while count <= n:\n",
    "    print(next_number, end=\" \")\n",
    "    count += 1\n",
    "    num1, num2 = num2, next_number\n",
    "    next_number = num1 + num2\n",
    "print()"
   ]
  },
  {
   "cell_type": "code",
   "execution_count": 5,
   "metadata": {},
   "outputs": [
    {
     "name": "stdout",
     "output_type": "stream",
     "text": [
      "121 is a palindrome.\n"
     ]
    }
   ],
   "source": [
    "# Write a Python Program to input a number a number and check weather it's Palindrome or Not\n",
    "\n",
    "number = input(\"Enter a number: \")\n",
    "\n",
    "# Check if the number is a palindrome\n",
    "if number == number[::-1]:\n",
    "    print(f\"{number} is a palindrome.\")\n",
    "else:\n",
    "    print(f\"{number} is not a palindrome.\")\n"
   ]
  },
  {
   "cell_type": "code",
   "execution_count": 3,
   "metadata": {},
   "outputs": [
    {
     "name": "stdout",
     "output_type": "stream",
     "text": [
      "Enter the elements:\n",
      "Element 2 found at index 8\n"
     ]
    }
   ],
   "source": [
    "# Write a Python Program to input the lenth of a series/list and create a list Dynalically, Hence search from the list using Linear Search.\n",
    "\n",
    "n = int(input(\"Enter the number of elements in the list: \"))\n",
    "numbers = []\n",
    "print(\"Enter the elements:\")\n",
    "for i in range(n):\n",
    "    element = int(input(f\"Element {i+1}: \"))\n",
    "    numbers.append(element)\n",
    "target = int(input(\"Enter the element to search for: \"))\n",
    "found = False\n",
    "for i in range(n):\n",
    "    if numbers[i] == target:\n",
    "        print(f\"Element {target} found at index {i}\")\n",
    "        found = True\n",
    "        break\n",
    "\n",
    "if not found:\n",
    "    print(f\"Element {target} not found in the list.\")\n"
   ]
  },
  {
   "cell_type": "code",
   "execution_count": null,
   "metadata": {},
   "outputs": [],
   "source": [
    "# Write a Python Program to create a Dictionary for every students data which may include the Name, Rollno, and Course ID. Hence create for the rolln and output the course ID\n",
    "\n",
    "students = {}\n",
    "\n",
    "# Input the number of students\n",
    "n = int(input(\"Enter the number of students: \"))\n",
    "\n",
    "# Input data for each student\n",
    "for i in range(n):\n",
    "    print(f\"\\nEnter details for student {i+1}:\")\n",
    "    name = input(\"Enter name: \")\n",
    "    roll_no = input(\"Enter roll number: \")\n",
    "    course_id = input(\"Enter course ID: \")\n",
    "    \n",
    "    # Store the student's data in the dictionary using roll number as the key\n",
    "    students[roll_no] = {\n",
    "        \"name\": name,\n",
    "        \"course_id\": course_id\n",
    "    }\n",
    "\n",
    "# Input the roll number to search for\n",
    "search_roll_no = input(\"\\nEnter the roll number to search for the course ID: \")\n",
    "\n",
    "# Search for the roll number in the dictionary and output the course ID\n",
    "if search_roll_no in students:\n",
    "    course_id = students[search_roll_no][\"course_id\"]\n",
    "    print(f\"Course ID for roll number {search_roll_no} is: {course_id}\")\n",
    "else:\n",
    "    print(f\"No student found with roll number {search_roll_no}.\")\n"
   ]
  },
  {
   "cell_type": "code",
   "execution_count": null,
   "metadata": {},
   "outputs": [],
   "source": [
    "# Write a Python Program that displays a menu with item prices, and lets the user select the the item to add to their order and show the total bill after they finish.\n",
    "\n",
    "menu = {\n",
    "    \"Burger\": 5.99,\n",
    "    \"Pizza\": 8.99,\n",
    "    \"Pasta\": 7.49,\n",
    "    \"Salad\": 4.49,\n",
    "    \"Soda\": 1.99\n",
    "}\n",
    "\n",
    "# Function to display the menu\n",
    "def display_menu():\n",
    "    print(\"\\nMenu:\")\n",
    "    for item, price in menu.items():\n",
    "        print(f\"{item}: ${price:.2f}\")\n",
    "\n",
    "# Function to take the user's order\n",
    "def take_order():\n",
    "    order = []\n",
    "    total_bill = 0\n",
    "\n",
    "    while True:\n",
    "        display_menu()\n",
    "        \n",
    "        # Ask user to select an item or quit\n",
    "        choice = input(\"\\nEnter the item name to add to your order or type 'done' to finish: \").capitalize()\n",
    "        \n",
    "        if choice == 'Done':\n",
    "            break\n",
    "        elif choice in menu:\n",
    "            order.append(choice)\n",
    "            total_bill += menu[choice]\n",
    "            print(f\"{choice} added to your order. Current total: ${total_bill:.2f}\")\n",
    "        else:\n",
    "            print(\"Invalid item, please choose from the menu.\")\n",
    "    \n",
    "    return order, total_bill\n",
    "\n",
    "# Main function to execute the order process\n",
    "def main():\n",
    "    print(\"Welcome to our restaurant!\")\n",
    "    \n",
    "    order, total_bill = take_order()\n",
    "    \n",
    "    if order:\n",
    "        print(\"\\nYour order:\")\n",
    "        for item in order:\n",
    "            print(f\"- {item}\")\n",
    "        print(f\"\\nTotal Bill: ${total_bill:.2f}\")\n",
    "    else:\n",
    "        print(\"No items were selected. Exiting...\")\n",
    "\n",
    "# Run the main function\n",
    "main()\n"
   ]
  },
  {
   "cell_type": "code",
   "execution_count": 2,
   "metadata": {},
   "outputs": [
    {
     "name": "stdout",
     "output_type": "stream",
     "text": [
      "*\n",
      "**\n",
      "***\n",
      "****\n",
      "*****\n"
     ]
    }
   ],
   "source": [
    "# Write a Python Program to Print this Patterm.\n",
    "for i in range(0,5):\n",
    "    for j in range(0,i+1):\n",
    "        print(\"*\",end=\"\")\n",
    "    print(\"\")"
   ]
  },
  {
   "cell_type": "code",
   "execution_count": 1,
   "metadata": {},
   "outputs": [
    {
     "name": "stdout",
     "output_type": "stream",
     "text": [
      "**********\n",
      "**********\n",
      "**********\n",
      "**********\n",
      "**********\n",
      "**********\n",
      "**********\n",
      "**********\n"
     ]
    }
   ],
   "source": [
    "# Write a Python Program to Print this Pattern.\n",
    "for i in range(0,8):\n",
    "    for j in range(0,10):\n",
    "        print(\"*\",end=\"\")\n",
    "    print(\"\")"
   ]
  }
 ],
 "metadata": {
  "kernelspec": {
   "display_name": "Python 3",
   "language": "python",
   "name": "python3"
  },
  "language_info": {
   "codemirror_mode": {
    "name": "ipython",
    "version": 3
   },
   "file_extension": ".py",
   "mimetype": "text/x-python",
   "name": "python",
   "nbconvert_exporter": "python",
   "pygments_lexer": "ipython3",
   "version": "3.12.4"
  }
 },
 "nbformat": 4,
 "nbformat_minor": 2
}
